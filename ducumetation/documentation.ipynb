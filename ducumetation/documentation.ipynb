{
 "cells": [
  {
   "attachments": {},
   "cell_type": "markdown",
   "metadata": {},
   "source": [
    "# API MTS SMS SENDING\n",
    "\n",
    "## Content table\n",
    "\n",
    "## Authentication params"
   ]
  },
  {
   "cell_type": "code",
   "execution_count": null,
   "metadata": {},
   "outputs": [],
   "source": [
    "authentication_params = {\n",
    "    'client_id': '1254', # присваивается провайдером\n",
    "    # 'extra_id': '? - идентификатор сообщения, указывается заказчиком, не может повторяться, не обязательный аргумент',\n",
    "    'alpha_name': 'Alivaria', # присваивается провайдером\n",
    "    'login': 'Alivaria_wxP9', # ввыдается администратором платформы'\n",
    "    'password': 'tBjAa1' # узнать, актуальный ли пароль'\n",
    "    }"
   ]
  },
  {
   "attachments": {},
   "cell_type": "markdown",
   "metadata": {},
   "source": [
    "Длина сообщения не должна превышать `1340` символов."
   ]
  },
  {
   "attachments": {},
   "cell_type": "markdown",
   "metadata": {},
   "source": [
    "## Отправка отдельного сообщения по всем доступным каналам связи\n",
    "\n",
    "### request_params:"
   ]
  },
  {
   "cell_type": "code",
   "execution_count": null,
   "metadata": {},
   "outputs": [],
   "source": [
    "request_params = {\n",
    "    'phone_number': 375445285989,\n",
    "    'extra_id': '', # not requirement\n",
    "    'callback_url': \"https://send-dr-here.com\", # what is?\n",
    "    'start_time': '2020-12-12 10:10:10+03:00', # not requirement,\n",
    "    'tag': 'debt_collection', # not requirement\n",
    "    'channels': [\n",
    "        'push',\n",
    "        'viber',\n",
    "        'sms'\n",
    "    ],\n",
    "    'channel_options': {\n",
    "        'push': {\n",
    "            'text': f'Уважаемый клиент!\\nОАО \"Пивоваренная компания сообщает, что у вас образовалась просроченная задолженность в размере {3434}\".\\nПросим оплатить',\n",
    "            'ttl': 60,\n",
    "            'title': 'Уведомление о задолженности', # what is it?\n",
    "            'img': 'https://example.com/image.png',\n",
    "            'caption': 'Click the button', # what is it?\n",
    "            'action': 'https://example.com', # what is it?\n",
    "        },\n",
    "        'viber': {\n",
    "            'text': f'Уважаемый клиент!\\nОАО \"Пивоваренная компания сообщает, что у вас образовалась просроченная задолженность в размере {3434}\".\\nПросим оплатить',\n",
    "            'ttl': 60,\n",
    "            'alpha_name': authentication_params['alpha_name'], # not required for Viber\n",
    "            'img': 'https://example.com/image.png',\n",
    "            'caption': 'Click the button', # what is it?\n",
    "            'action': 'https://example.com', # what is it?\n",
    "        },\n",
    "        'sms': {\n",
    "            'text': f'Уважаемый клиент!\\nОАО \"Пивоваренная компания сообщает, что у вас образовалась просроченная задолженность в размере {3434}\".\\nПросим оплатить',\n",
    "            'alpha_name': authentication_params['alpha_name'],\n",
    "            'ttl': 300,\n",
    "        }\n",
    "\n",
    "    }\n",
    "}"
   ]
  },
  {
   "attachments": {},
   "cell_type": "markdown",
   "metadata": {},
   "source": [
    "## Отправка отдельного SMS-сообщения\n",
    "\n",
    "### request_params"
   ]
  },
  {
   "cell_type": "code",
   "execution_count": null,
   "metadata": {},
   "outputs": [],
   "source": [
    "request_params = {\n",
    "    'phone_number': 375445285989,\n",
    "    'extra_id': '', # what is it?\n",
    "    'callback_url': \"https://send-dr-here.com\", # what is?\n",
    "    'start_time': '2020-12-12 10:10:10+03:00', # not requirement, what is it?\n",
    "    'tag': 'debt_collection', # not requirement\n",
    "    'channels': [\n",
    "        'sms'\n",
    "    ],\n",
    "    'channel_options': {\n",
    "        'sms': {\n",
    "            'text': f'Уважаемый клиент!\\nОАО \"Пивоваренная компания сообщает, что у вас образовалась просроченная задолженность в размере {3434}\".\\nПросим оплатить',\n",
    "            'alpha_name': authentication_params['alpha_name'],\n",
    "            'ttl': 300,\n",
    "        }\n",
    "\n",
    "    }\n",
    "}"
   ]
  },
  {
   "attachments": {},
   "cell_type": "markdown",
   "metadata": {},
   "source": [
    "## Ответ на запрос отдельного сообщения\n",
    "\n",
    "Если запрос успешен, ответ будет выглядеть следующим образом:"
   ]
  },
  {
   "cell_type": "code",
   "execution_count": null,
   "metadata": {},
   "outputs": [],
   "source": [
    "{\"message_id\":\"9f60ac8f-e721-5027-b838-e6fcb95fcd7a\"} "
   ]
  },
  {
   "attachments": {},
   "cell_type": "markdown",
   "metadata": {},
   "source": [
    "Если запрос не успешен, ответ будет выглядеть следующим образом:"
   ]
  },
  {
   "cell_type": "code",
   "execution_count": null,
   "metadata": {},
   "outputs": [],
   "source": [
    "{\"error_code\":36024,\"error_text\":\"Phone number incorrect\"}"
   ]
  },
  {
   "attachments": {},
   "cell_type": "markdown",
   "metadata": {},
   "source": [
    "## Массовая рассылка сообщений\n",
    "\n",
    "### request_params"
   ]
  },
  {
   "cell_type": "code",
   "execution_count": null,
   "metadata": {},
   "outputs": [],
   "source": [
    "request_params = {\n",
    "    'batch_url1': f'https://api.communicator.mts.by/{authentication_params[\"client_id\"]}/json2/batch', # person text message\n",
    "    'batch_url_sync': f'https://api.communicator.mts.by/{authentication_params[\"client_id\"]}/json2/batch/sync', # person text message\n",
    "    'broad_cast_url': f'https://api.communicator.mts.by/{authentication_params[\"client_id\"]}/json2/broadcast', # overal text message\n",
    "    'broad_cast_url': f'https://api.communicator.mts.by/{authentication_params[\"client_id\"]}/json2/broadcast/sync', # overal text message\n",
    "    'request_method': 'POST'\n",
    "}"
   ]
  },
  {
   "attachments": {},
   "cell_type": "markdown",
   "metadata": {},
   "source": [
    "`batch` - для рассылкы с персонолизированным текстом для каждого номера  \n",
    "`broadcast` - для рассылки с общим текстом для всего канала\n",
    "\n",
    "### Пример запроса на bath-рассылку Viber + SMS"
   ]
  },
  {
   "cell_type": "code",
   "execution_count": null,
   "metadata": {},
   "outputs": [],
   "source": [
    "request_params = {\n",
    "    'messages': [\n",
    "        {\n",
    "            'phone_number': 375445285989,\n",
    "            'extra_id': '', # what is it?\n",
    "            'text': f'Уважаемый клиент!\\nОАО \"Пивоваренная компания сообщает, что у вас образовалась просроченная задолженность в размере {375445285989}\".\\nПросим оплатить'\n",
    "        },\n",
    "        {\n",
    "            'phone_number': 375295001701,\n",
    "            'extra_id': '', # what is it?\n",
    "            'text': f'Уважаемый клиент!\\nОАО \"Пивоваренная компания сообщает, что у вас образовалась просроченная задолженность в размере {375295001701}\".\\nПросим оплатить'\n",
    "        },\n",
    "        {\n",
    "            'phone_number': 375298027982,\n",
    "            'extra_id': '', # what is it?\n",
    "            'text': f'Уважаемый клиент!\\nОАО \"Пивоваренная компания сообщает, что у вас образовалась просроченная задолженность в размере {375298027982}\".\\nПросим оплатить'\n",
    "        }\n",
    "    ],\n",
    "    'callback_url': \"https://send-dr-here.com\", # what is it?\n",
    "    'start_time': '2020-12-12 10:10:10+03:00', # not requirement, what is it?\n",
    "    'tag': 'debt_collection', # not requirement\n",
    "    'channels': [\n",
    "        'viber',\n",
    "        'sms'\n",
    "    ],\n",
    "    'channel_options': {\n",
    "        'viber': {\n",
    "            'ttl': 60,\n",
    "            'alpha_name': authentication_params['alpha_name'], # not required for Viber\n",
    "            'img': 'https://example.com/image.png',\n",
    "            'caption': 'Click the button', # what is it?\n",
    "            'action': 'https://example.com', # what is it?\n",
    "        },\n",
    "        'sms': {\n",
    "            'alpha_name': authentication_params['alpha_name'],\n",
    "            'ttl': 300\n",
    "        }\n",
    "\n",
    "    }\n",
    "}"
   ]
  },
  {
   "attachments": {},
   "cell_type": "markdown",
   "metadata": {},
   "source": [
    "### Отправка запроса на batch-рассылку SMS-сообщений\n",
    "\n",
    "Пример параметров запроса:"
   ]
  },
  {
   "cell_type": "code",
   "execution_count": null,
   "metadata": {},
   "outputs": [],
   "source": [
    "request_params = {\n",
    "    'messages': [\n",
    "        {\n",
    "            'phone_number': 375445285989,\n",
    "            'extra_id': '', # what is it?\n",
    "            'text': f'Уважаемый клиент!\\nОАО \"Пивоваренная компания сообщает, что у вас образовалась просроченная задолженность в размере {375445285989}\".\\nПросим оплатить'\n",
    "        },\n",
    "        {\n",
    "            'phone_number': 375295001701,\n",
    "            'extra_id': '', # what is it?\n",
    "            'text': f'Уважаемый клиент!\\nОАО \"Пивоваренная компания сообщает, что у вас образовалась просроченная задолженность в размере {375295001701}\".\\nПросим оплатить'\n",
    "        },\n",
    "        {\n",
    "            'phone_number': 375298027982,\n",
    "            'extra_id': '', # what is it?\n",
    "            'text': f'Уважаемый клиент!\\nОАО \"Пивоваренная компания сообщает, что у вас образовалась просроченная задолженность в размере {375298027982}\".\\nПросим оплатить'\n",
    "        }\n",
    "    ],\n",
    "    'callback_url': \"https://send-dr-here.com\", # what is it?\n",
    "    'start_time': '2020-12-12 10:10:10+03:00', # not requirement, what is it?\n",
    "    'tag': 'debt_collection', # not requirement\n",
    "    'channels': [\n",
    "        'sms'\n",
    "    ],\n",
    "    'channel_options': {\n",
    "        'sms': {\n",
    "            'alpha_name': authentication_params['alpha_name'],\n",
    "            'ttl': 300\n",
    "        }\n",
    "    }\n",
    "}"
   ]
  },
  {
   "attachments": {},
   "cell_type": "markdown",
   "metadata": {},
   "source": [
    "### Ответ на запрс batch-рассылки:\n",
    "\n",
    "Если запрос направлен успешно на `batch_url`:"
   ]
  },
  {
   "cell_type": "code",
   "execution_count": null,
   "metadata": {},
   "outputs": [],
   "source": [
    "{\"job_id\": \"66591729-cb47-5ef9-964b-949dc6aff84f\"}"
   ]
  },
  {
   "attachments": {},
   "cell_type": "markdown",
   "metadata": {},
   "source": [
    "Где `job_id` - ID компании.\n",
    "\n",
    "Если запрос напревлен успешно на `batch_url_sync`:"
   ]
  },
  {
   "cell_type": "code",
   "execution_count": null,
   "metadata": {},
   "outputs": [],
   "source": [
    "response = {\n",
    "    \"messages\": [\n",
    "        {\n",
    "            \"processed\": True,\n",
    "            \"phone_number\": \"79651111111\",\n",
    "            \"message_id\": \"9f60ac8f-e721-5027-b838-e6fcb95fcd7a\",\n",
    "            \"extra_id\": \"AD-6640-7006\",\n",
    "            \"accepted\": True\n",
    "        },\n",
    "        {\n",
    "            \"processed\": True,\n",
    "            \"phone_number\": \"79652222222\",\n",
    "            \"message_id\": \"e5ea7286-6849-52d7-9e1b-8719b736283e\",\n",
    "            \"extra_id\": \"AD-6640-7007\",\n",
    "            \"accepted\": True\n",
    "        }\n",
    "    ]\n",
    "} "
   ]
  }
 ],
 "metadata": {
  "kernelspec": {
   "display_name": "api_mts_venv",
   "language": "python",
   "name": "python3"
  },
  "language_info": {
   "name": "python",
   "version": "3.11.0"
  },
  "orig_nbformat": 4
 },
 "nbformat": 4,
 "nbformat_minor": 2
}
